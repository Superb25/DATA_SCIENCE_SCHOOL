{
 "cells": [
  {
   "cell_type": "code",
   "execution_count": 6,
   "id": "20fd78fb",
   "metadata": {},
   "outputs": [
    {
     "name": "stdout",
     "output_type": "stream",
     "text": [
      "Requirement already satisfied: pandas in c:\\users\\user\\anaconda3\\lib\\site-packages (1.3.4)\n",
      "Requirement already satisfied: numpy>=1.17.3 in c:\\users\\user\\anaconda3\\lib\\site-packages (from pandas) (1.20.3)\n",
      "Requirement already satisfied: pytz>=2017.3 in c:\\users\\user\\anaconda3\\lib\\site-packages (from pandas) (2021.3)\n",
      "Requirement already satisfied: python-dateutil>=2.7.3 in c:\\users\\user\\anaconda3\\lib\\site-packages (from pandas) (2.8.2)\n",
      "Requirement already satisfied: six>=1.5 in c:\\users\\user\\anaconda3\\lib\\site-packages (from python-dateutil>=2.7.3->pandas) (1.16.0)\n",
      "Note: you may need to restart the kernel to use updated packages.\n"
     ]
    }
   ],
   "source": [
    "pip install pandas"
   ]
  },
  {
   "cell_type": "code",
   "execution_count": 7,
   "id": "fc4e993f",
   "metadata": {},
   "outputs": [
    {
     "name": "stdout",
     "output_type": "stream",
     "text": [
      "Requirement already satisfied: matplotlib in c:\\users\\user\\anaconda3\\lib\\site-packages (3.4.3)\n",
      "Requirement already satisfied: pyparsing>=2.2.1 in c:\\users\\user\\anaconda3\\lib\\site-packages (from matplotlib) (3.0.4)\n",
      "Requirement already satisfied: python-dateutil>=2.7 in c:\\users\\user\\anaconda3\\lib\\site-packages (from matplotlib) (2.8.2)\n",
      "Requirement already satisfied: kiwisolver>=1.0.1 in c:\\users\\user\\anaconda3\\lib\\site-packages (from matplotlib) (1.3.1)\n",
      "Requirement already satisfied: pillow>=6.2.0 in c:\\users\\user\\anaconda3\\lib\\site-packages (from matplotlib) (8.4.0)\n",
      "Requirement already satisfied: numpy>=1.16 in c:\\users\\user\\anaconda3\\lib\\site-packages (from matplotlib) (1.20.3)\n",
      "Requirement already satisfied: cycler>=0.10 in c:\\users\\user\\anaconda3\\lib\\site-packages (from matplotlib) (0.10.0)\n",
      "Requirement already satisfied: six in c:\\users\\user\\anaconda3\\lib\\site-packages (from cycler>=0.10->matplotlib) (1.16.0)\n",
      "Note: you may need to restart the kernel to use updated packages.\n"
     ]
    }
   ],
   "source": [
    "pip install matplotlib"
   ]
  },
  {
   "cell_type": "code",
   "execution_count": 8,
   "id": "f7783b01",
   "metadata": {},
   "outputs": [
    {
     "name": "stdout",
     "output_type": "stream",
     "text": [
      "Requirement already satisfied: plotly in c:\\users\\user\\anaconda3\\lib\\site-packages (5.8.0)\n",
      "Requirement already satisfied: tenacity>=6.2.0 in c:\\users\\user\\anaconda3\\lib\\site-packages (from plotly) (8.0.1)\n",
      "Note: you may need to restart the kernel to use updated packages.\n"
     ]
    }
   ],
   "source": [
    "pip install plotly"
   ]
  },
  {
   "cell_type": "code",
   "execution_count": 9,
   "id": "6d6417c6",
   "metadata": {},
   "outputs": [
    {
     "name": "stdout",
     "output_type": "stream",
     "text": [
      "Requirement already satisfied: scikit-learn in c:\\users\\user\\anaconda3\\lib\\site-packages (1.1.1)\n",
      "Requirement already satisfied: joblib>=1.0.0 in c:\\users\\user\\anaconda3\\lib\\site-packages (from scikit-learn) (1.1.0)\n",
      "Requirement already satisfied: numpy>=1.17.3 in c:\\users\\user\\anaconda3\\lib\\site-packages (from scikit-learn) (1.20.3)\n",
      "Requirement already satisfied: threadpoolctl>=2.0.0 in c:\\users\\user\\anaconda3\\lib\\site-packages (from scikit-learn) (2.2.0)\n",
      "Requirement already satisfied: scipy>=1.3.2 in c:\\users\\user\\anaconda3\\lib\\site-packages (from scikit-learn) (1.7.1)\n",
      "Note: you may need to restart the kernel to use updated packages.\n"
     ]
    }
   ],
   "source": [
    "pip install scikit-learn"
   ]
  },
  {
   "cell_type": "code",
   "execution_count": 10,
   "id": "48ccf845",
   "metadata": {},
   "outputs": [],
   "source": [
    "import pandas as pd\n",
    "import numpy as np\n",
    "import matplotlib.pyplot as plt\n",
    "import plotly.express as px "
   ]
  },
  {
   "cell_type": "code",
   "execution_count": 11,
   "id": "8049e3b7",
   "metadata": {},
   "outputs": [
    {
     "name": "stdout",
     "output_type": "stream",
     "text": [
      "<class 'pandas.core.frame.DataFrame'>\n",
      "RangeIndex: 3500 entries, 0 to 3499\n",
      "Data columns (total 7 columns):\n",
      " #   Column                Non-Null Count  Dtype \n",
      "---  ------                --------------  ----- \n",
      " 0   year                  3500 non-null   int64 \n",
      " 1   isic_index            3500 non-null   object\n",
      " 2   isic_section_name     3500 non-null   object\n",
      " 3   industry_name         3500 non-null   object\n",
      " 4   skill_group_category  3500 non-null   object\n",
      " 5   skill_group_name      3500 non-null   object\n",
      " 6   skill_group_rank      3500 non-null   int64 \n",
      "dtypes: int64(2), object(5)\n",
      "memory usage: 191.5+ KB\n"
     ]
    }
   ],
   "source": [
    "skills = pd.read_excel('public_use-industry-skills-needs.xlsx',sheet_name= 'Industry Skills Needs')\n",
    "skills.info()"
   ]
  },
  {
   "cell_type": "code",
   "execution_count": 12,
   "id": "d3f2ca4a",
   "metadata": {},
   "outputs": [
    {
     "data": {
      "text/html": [
       "<div>\n",
       "<style scoped>\n",
       "    .dataframe tbody tr th:only-of-type {\n",
       "        vertical-align: middle;\n",
       "    }\n",
       "\n",
       "    .dataframe tbody tr th {\n",
       "        vertical-align: top;\n",
       "    }\n",
       "\n",
       "    .dataframe thead th {\n",
       "        text-align: right;\n",
       "    }\n",
       "</style>\n",
       "<table border=\"1\" class=\"dataframe\">\n",
       "  <thead>\n",
       "    <tr style=\"text-align: right;\">\n",
       "      <th></th>\n",
       "      <th>year</th>\n",
       "      <th>isic_index</th>\n",
       "      <th>isic_section_name</th>\n",
       "      <th>industry_name</th>\n",
       "      <th>skill_group_category</th>\n",
       "      <th>skill_group_name</th>\n",
       "      <th>skill_group_rank</th>\n",
       "    </tr>\n",
       "  </thead>\n",
       "  <tbody>\n",
       "    <tr>\n",
       "      <th>0</th>\n",
       "      <td>2015</td>\n",
       "      <td>B</td>\n",
       "      <td>Mining and quarrying</td>\n",
       "      <td>Mining &amp; Metals</td>\n",
       "      <td>Specialized Industry Skills</td>\n",
       "      <td>Mining</td>\n",
       "      <td>1</td>\n",
       "    </tr>\n",
       "    <tr>\n",
       "      <th>1</th>\n",
       "      <td>2015</td>\n",
       "      <td>B</td>\n",
       "      <td>Mining and quarrying</td>\n",
       "      <td>Mining &amp; Metals</td>\n",
       "      <td>Soft Skills</td>\n",
       "      <td>Negotiation</td>\n",
       "      <td>2</td>\n",
       "    </tr>\n",
       "    <tr>\n",
       "      <th>2</th>\n",
       "      <td>2015</td>\n",
       "      <td>B</td>\n",
       "      <td>Mining and quarrying</td>\n",
       "      <td>Mining &amp; Metals</td>\n",
       "      <td>Business Skills</td>\n",
       "      <td>Project Management</td>\n",
       "      <td>3</td>\n",
       "    </tr>\n",
       "    <tr>\n",
       "      <th>3</th>\n",
       "      <td>2015</td>\n",
       "      <td>B</td>\n",
       "      <td>Mining and quarrying</td>\n",
       "      <td>Mining &amp; Metals</td>\n",
       "      <td>Business Skills</td>\n",
       "      <td>Business Management</td>\n",
       "      <td>4</td>\n",
       "    </tr>\n",
       "    <tr>\n",
       "      <th>4</th>\n",
       "      <td>2015</td>\n",
       "      <td>B</td>\n",
       "      <td>Mining and quarrying</td>\n",
       "      <td>Mining &amp; Metals</td>\n",
       "      <td>Specialized Industry Skills</td>\n",
       "      <td>Earth Science</td>\n",
       "      <td>5</td>\n",
       "    </tr>\n",
       "    <tr>\n",
       "      <th>5</th>\n",
       "      <td>2015</td>\n",
       "      <td>B</td>\n",
       "      <td>Mining and quarrying</td>\n",
       "      <td>Mining &amp; Metals</td>\n",
       "      <td>Business Skills</td>\n",
       "      <td>Manufacturing Operations</td>\n",
       "      <td>6</td>\n",
       "    </tr>\n",
       "    <tr>\n",
       "      <th>6</th>\n",
       "      <td>2015</td>\n",
       "      <td>B</td>\n",
       "      <td>Mining and quarrying</td>\n",
       "      <td>Mining &amp; Metals</td>\n",
       "      <td>Specialized Industry Skills</td>\n",
       "      <td>Drilling Engineering</td>\n",
       "      <td>7</td>\n",
       "    </tr>\n",
       "    <tr>\n",
       "      <th>7</th>\n",
       "      <td>2015</td>\n",
       "      <td>B</td>\n",
       "      <td>Mining and quarrying</td>\n",
       "      <td>Mining &amp; Metals</td>\n",
       "      <td>Tech Skills</td>\n",
       "      <td>Digital Literacy</td>\n",
       "      <td>8</td>\n",
       "    </tr>\n",
       "    <tr>\n",
       "      <th>8</th>\n",
       "      <td>2015</td>\n",
       "      <td>B</td>\n",
       "      <td>Mining and quarrying</td>\n",
       "      <td>Mining &amp; Metals</td>\n",
       "      <td>Specialized Industry Skills</td>\n",
       "      <td>Maintenance &amp; Repair</td>\n",
       "      <td>9</td>\n",
       "    </tr>\n",
       "    <tr>\n",
       "      <th>9</th>\n",
       "      <td>2015</td>\n",
       "      <td>B</td>\n",
       "      <td>Mining and quarrying</td>\n",
       "      <td>Mining &amp; Metals</td>\n",
       "      <td>Business Skills</td>\n",
       "      <td>Procurement</td>\n",
       "      <td>10</td>\n",
       "    </tr>\n",
       "    <tr>\n",
       "      <th>10</th>\n",
       "      <td>2015</td>\n",
       "      <td>B</td>\n",
       "      <td>Mining and quarrying</td>\n",
       "      <td>Oil &amp; Energy</td>\n",
       "      <td>Specialized Industry Skills</td>\n",
       "      <td>Oil &amp; Gas</td>\n",
       "      <td>1</td>\n",
       "    </tr>\n",
       "    <tr>\n",
       "      <th>11</th>\n",
       "      <td>2015</td>\n",
       "      <td>B</td>\n",
       "      <td>Mining and quarrying</td>\n",
       "      <td>Oil &amp; Energy</td>\n",
       "      <td>Specialized Industry Skills</td>\n",
       "      <td>Drilling Engineering</td>\n",
       "      <td>2</td>\n",
       "    </tr>\n",
       "    <tr>\n",
       "      <th>12</th>\n",
       "      <td>2015</td>\n",
       "      <td>B</td>\n",
       "      <td>Mining and quarrying</td>\n",
       "      <td>Oil &amp; Energy</td>\n",
       "      <td>Specialized Industry Skills</td>\n",
       "      <td>Utilities</td>\n",
       "      <td>3</td>\n",
       "    </tr>\n",
       "    <tr>\n",
       "      <th>13</th>\n",
       "      <td>2015</td>\n",
       "      <td>B</td>\n",
       "      <td>Mining and quarrying</td>\n",
       "      <td>Oil &amp; Energy</td>\n",
       "      <td>Soft Skills</td>\n",
       "      <td>Negotiation</td>\n",
       "      <td>4</td>\n",
       "    </tr>\n",
       "    <tr>\n",
       "      <th>14</th>\n",
       "      <td>2015</td>\n",
       "      <td>B</td>\n",
       "      <td>Mining and quarrying</td>\n",
       "      <td>Oil &amp; Energy</td>\n",
       "      <td>Business Skills</td>\n",
       "      <td>Project Management</td>\n",
       "      <td>5</td>\n",
       "    </tr>\n",
       "    <tr>\n",
       "      <th>15</th>\n",
       "      <td>2015</td>\n",
       "      <td>B</td>\n",
       "      <td>Mining and quarrying</td>\n",
       "      <td>Oil &amp; Energy</td>\n",
       "      <td>Tech Skills</td>\n",
       "      <td>Digital Literacy</td>\n",
       "      <td>6</td>\n",
       "    </tr>\n",
       "    <tr>\n",
       "      <th>16</th>\n",
       "      <td>2015</td>\n",
       "      <td>B</td>\n",
       "      <td>Mining and quarrying</td>\n",
       "      <td>Oil &amp; Energy</td>\n",
       "      <td>Business Skills</td>\n",
       "      <td>Business Management</td>\n",
       "      <td>7</td>\n",
       "    </tr>\n",
       "    <tr>\n",
       "      <th>17</th>\n",
       "      <td>2015</td>\n",
       "      <td>B</td>\n",
       "      <td>Mining and quarrying</td>\n",
       "      <td>Oil &amp; Energy</td>\n",
       "      <td>Soft Skills</td>\n",
       "      <td>Teamwork</td>\n",
       "      <td>8</td>\n",
       "    </tr>\n",
       "    <tr>\n",
       "      <th>18</th>\n",
       "      <td>2015</td>\n",
       "      <td>B</td>\n",
       "      <td>Mining and quarrying</td>\n",
       "      <td>Oil &amp; Energy</td>\n",
       "      <td>Specialized Industry Skills</td>\n",
       "      <td>Construction Engineering</td>\n",
       "      <td>9</td>\n",
       "    </tr>\n",
       "    <tr>\n",
       "      <th>19</th>\n",
       "      <td>2015</td>\n",
       "      <td>B</td>\n",
       "      <td>Mining and quarrying</td>\n",
       "      <td>Oil &amp; Energy</td>\n",
       "      <td>Soft Skills</td>\n",
       "      <td>Leadership</td>\n",
       "      <td>10</td>\n",
       "    </tr>\n",
       "  </tbody>\n",
       "</table>\n",
       "</div>"
      ],
      "text/plain": [
       "    year isic_index     isic_section_name    industry_name  \\\n",
       "0   2015          B  Mining and quarrying  Mining & Metals   \n",
       "1   2015          B  Mining and quarrying  Mining & Metals   \n",
       "2   2015          B  Mining and quarrying  Mining & Metals   \n",
       "3   2015          B  Mining and quarrying  Mining & Metals   \n",
       "4   2015          B  Mining and quarrying  Mining & Metals   \n",
       "5   2015          B  Mining and quarrying  Mining & Metals   \n",
       "6   2015          B  Mining and quarrying  Mining & Metals   \n",
       "7   2015          B  Mining and quarrying  Mining & Metals   \n",
       "8   2015          B  Mining and quarrying  Mining & Metals   \n",
       "9   2015          B  Mining and quarrying  Mining & Metals   \n",
       "10  2015          B  Mining and quarrying     Oil & Energy   \n",
       "11  2015          B  Mining and quarrying     Oil & Energy   \n",
       "12  2015          B  Mining and quarrying     Oil & Energy   \n",
       "13  2015          B  Mining and quarrying     Oil & Energy   \n",
       "14  2015          B  Mining and quarrying     Oil & Energy   \n",
       "15  2015          B  Mining and quarrying     Oil & Energy   \n",
       "16  2015          B  Mining and quarrying     Oil & Energy   \n",
       "17  2015          B  Mining and quarrying     Oil & Energy   \n",
       "18  2015          B  Mining and quarrying     Oil & Energy   \n",
       "19  2015          B  Mining and quarrying     Oil & Energy   \n",
       "\n",
       "           skill_group_category          skill_group_name  skill_group_rank  \n",
       "0   Specialized Industry Skills                    Mining                 1  \n",
       "1                   Soft Skills               Negotiation                 2  \n",
       "2               Business Skills        Project Management                 3  \n",
       "3               Business Skills       Business Management                 4  \n",
       "4   Specialized Industry Skills             Earth Science                 5  \n",
       "5               Business Skills  Manufacturing Operations                 6  \n",
       "6   Specialized Industry Skills      Drilling Engineering                 7  \n",
       "7                   Tech Skills          Digital Literacy                 8  \n",
       "8   Specialized Industry Skills      Maintenance & Repair                 9  \n",
       "9               Business Skills               Procurement                10  \n",
       "10  Specialized Industry Skills                 Oil & Gas                 1  \n",
       "11  Specialized Industry Skills      Drilling Engineering                 2  \n",
       "12  Specialized Industry Skills                 Utilities                 3  \n",
       "13                  Soft Skills               Negotiation                 4  \n",
       "14              Business Skills        Project Management                 5  \n",
       "15                  Tech Skills          Digital Literacy                 6  \n",
       "16              Business Skills       Business Management                 7  \n",
       "17                  Soft Skills                  Teamwork                 8  \n",
       "18  Specialized Industry Skills  Construction Engineering                 9  \n",
       "19                  Soft Skills                Leadership                10  "
      ]
     },
     "execution_count": 12,
     "metadata": {},
     "output_type": "execute_result"
    }
   ],
   "source": [
    "skills.head(20)"
   ]
  },
  {
   "cell_type": "code",
   "execution_count": 13,
   "id": "aeedf063",
   "metadata": {},
   "outputs": [
    {
     "data": {
      "text/plain": [
       "year                     int64\n",
       "isic_index              object\n",
       "isic_section_name       object\n",
       "industry_name           object\n",
       "skill_group_category    object\n",
       "skill_group_name        object\n",
       "skill_group_rank         int64\n",
       "dtype: object"
      ]
     },
     "execution_count": 13,
     "metadata": {},
     "output_type": "execute_result"
    }
   ],
   "source": [
    "skills.dtypes"
   ]
  },
  {
   "cell_type": "markdown",
   "id": "79d1a8eb",
   "metadata": {},
   "source": [
    "# EDA"
   ]
  },
  {
   "cell_type": "code",
   "execution_count": 14,
   "id": "017a6d05",
   "metadata": {},
   "outputs": [
    {
     "name": "stdout",
     "output_type": "stream",
     "text": [
      "Requirement already satisfied: pandas in c:\\users\\user\\anaconda3\\lib\\site-packages (1.3.4)\n",
      "Collecting profiling\n",
      "  Using cached profiling-0.1.3.tar.gz (36 kB)\n",
      "Requirement already satisfied: pytz>=2017.3 in c:\\users\\user\\anaconda3\\lib\\site-packages (from pandas) (2021.3)\n",
      "Requirement already satisfied: python-dateutil>=2.7.3 in c:\\users\\user\\anaconda3\\lib\\site-packages (from pandas) (2.8.2)\n",
      "Requirement already satisfied: numpy>=1.17.3 in c:\\users\\user\\anaconda3\\lib\\site-packages (from pandas) (1.20.3)\n",
      "Requirement already satisfied: valuedispatch>=0.0.1 in c:\\users\\user\\anaconda3\\lib\\site-packages (from profiling) (0.0.1)\n",
      "Requirement already satisfied: click>=4.1 in c:\\users\\user\\anaconda3\\lib\\site-packages (from profiling) (8.0.3)\n",
      "Requirement already satisfied: click-default-group>=1.2 in c:\\users\\user\\anaconda3\\lib\\site-packages (from profiling) (1.2.2)\n",
      "Requirement already satisfied: six>=1.8.0 in c:\\users\\user\\anaconda3\\lib\\site-packages (from profiling) (1.16.0)\n",
      "Requirement already satisfied: urwid>=1.2.1 in c:\\users\\user\\anaconda3\\lib\\site-packages (from profiling) (2.1.2)\n",
      "Requirement already satisfied: colorama in c:\\users\\user\\anaconda3\\lib\\site-packages (from click>=4.1->profiling) (0.4.4)\n",
      "Building wheels for collected packages: profiling\n",
      "  Building wheel for profiling (setup.py): started\n",
      "  Building wheel for profiling (setup.py): finished with status 'error'\n",
      "  Running setup.py clean for profiling\n",
      "Failed to build profiling\n",
      "Installing collected packages: profiling\n",
      "    Running setup.py install for profiling: started\n",
      "    Running setup.py install for profiling: finished with status 'error'\n",
      "Note: you may need to restart the kernel to use updated packages.\n"
     ]
    },
    {
     "name": "stderr",
     "output_type": "stream",
     "text": [
      "  ERROR: Command errored out with exit status 1:\n",
      "   command: 'C:\\Users\\user\\anaconda3\\python.exe' -u -c 'import io, os, sys, setuptools, tokenize; sys.argv[0] = '\"'\"'C:\\\\Users\\\\user\\\\AppData\\\\Local\\\\Temp\\\\pip-install-lpslfdqg\\\\profiling_f39ab10cdb9146b78bf09219d0c9862a\\\\setup.py'\"'\"'; __file__='\"'\"'C:\\\\Users\\\\user\\\\AppData\\\\Local\\\\Temp\\\\pip-install-lpslfdqg\\\\profiling_f39ab10cdb9146b78bf09219d0c9862a\\\\setup.py'\"'\"';f = getattr(tokenize, '\"'\"'open'\"'\"', open)(__file__) if os.path.exists(__file__) else io.StringIO('\"'\"'from setuptools import setup; setup()'\"'\"');code = f.read().replace('\"'\"'\\r\\n'\"'\"', '\"'\"'\\n'\"'\"');f.close();exec(compile(code, __file__, '\"'\"'exec'\"'\"'))' bdist_wheel -d 'C:\\Users\\user\\AppData\\Local\\Temp\\pip-wheel-l3ispm1i'\n",
      "       cwd: C:\\Users\\user\\AppData\\Local\\Temp\\pip-install-lpslfdqg\\profiling_f39ab10cdb9146b78bf09219d0c9862a\\\n",
      "  Complete output (30 lines):\n",
      "  running bdist_wheel\n",
      "  running build\n",
      "  running build_py\n",
      "  creating build\n",
      "  creating build\\lib.win-amd64-3.9\n",
      "  creating build\\lib.win-amd64-3.9\\profiling\n",
      "  copying profiling\\profiler.py -> build\\lib.win-amd64-3.9\\profiling\n",
      "  copying profiling\\sortkeys.py -> build\\lib.win-amd64-3.9\\profiling\n",
      "  copying profiling\\stats.py -> build\\lib.win-amd64-3.9\\profiling\n",
      "  copying profiling\\utils.py -> build\\lib.win-amd64-3.9\\profiling\n",
      "  copying profiling\\viewer.py -> build\\lib.win-amd64-3.9\\profiling\n",
      "  copying profiling\\__about__.py -> build\\lib.win-amd64-3.9\\profiling\n",
      "  copying profiling\\__init__.py -> build\\lib.win-amd64-3.9\\profiling\n",
      "  copying profiling\\__main__.py -> build\\lib.win-amd64-3.9\\profiling\n",
      "  creating build\\lib.win-amd64-3.9\\profiling\\remote\n",
      "  copying profiling\\remote\\asyncio.py -> build\\lib.win-amd64-3.9\\profiling\\remote\n",
      "  copying profiling\\remote\\background.py -> build\\lib.win-amd64-3.9\\profiling\\remote\n",
      "  copying profiling\\remote\\client.py -> build\\lib.win-amd64-3.9\\profiling\\remote\n",
      "  copying profiling\\remote\\gevent.py -> build\\lib.win-amd64-3.9\\profiling\\remote\n",
      "  copying profiling\\remote\\select.py -> build\\lib.win-amd64-3.9\\profiling\\remote\n",
      "  copying profiling\\remote\\__init__.py -> build\\lib.win-amd64-3.9\\profiling\\remote\n",
      "  creating build\\lib.win-amd64-3.9\\profiling\\sampling\n",
      "  copying profiling\\sampling\\samplers.py -> build\\lib.win-amd64-3.9\\profiling\\sampling\n",
      "  copying profiling\\sampling\\__init__.py -> build\\lib.win-amd64-3.9\\profiling\\sampling\n",
      "  creating build\\lib.win-amd64-3.9\\profiling\\tracing\n",
      "  copying profiling\\tracing\\timers.py -> build\\lib.win-amd64-3.9\\profiling\\tracing\n",
      "  copying profiling\\tracing\\__init__.py -> build\\lib.win-amd64-3.9\\profiling\\tracing\n",
      "  running build_ext\n",
      "  building 'profiling.speedup' extension\n",
      "  error: Microsoft Visual C++ 14.0 or greater is required. Get it with \"Microsoft C++ Build Tools\": https://visualstudio.microsoft.com/visual-cpp-build-tools/\n",
      "  ----------------------------------------\n",
      "  ERROR: Failed building wheel for profiling\n",
      "    ERROR: Command errored out with exit status 1:\n",
      "     command: 'C:\\Users\\user\\anaconda3\\python.exe' -u -c 'import io, os, sys, setuptools, tokenize; sys.argv[0] = '\"'\"'C:\\\\Users\\\\user\\\\AppData\\\\Local\\\\Temp\\\\pip-install-lpslfdqg\\\\profiling_f39ab10cdb9146b78bf09219d0c9862a\\\\setup.py'\"'\"'; __file__='\"'\"'C:\\\\Users\\\\user\\\\AppData\\\\Local\\\\Temp\\\\pip-install-lpslfdqg\\\\profiling_f39ab10cdb9146b78bf09219d0c9862a\\\\setup.py'\"'\"';f = getattr(tokenize, '\"'\"'open'\"'\"', open)(__file__) if os.path.exists(__file__) else io.StringIO('\"'\"'from setuptools import setup; setup()'\"'\"');code = f.read().replace('\"'\"'\\r\\n'\"'\"', '\"'\"'\\n'\"'\"');f.close();exec(compile(code, __file__, '\"'\"'exec'\"'\"'))' install --record 'C:\\Users\\user\\AppData\\Local\\Temp\\pip-record-dvcuf6ij\\install-record.txt' --single-version-externally-managed --compile --install-headers 'C:\\Users\\user\\anaconda3\\Include\\profiling'\n",
      "         cwd: C:\\Users\\user\\AppData\\Local\\Temp\\pip-install-lpslfdqg\\profiling_f39ab10cdb9146b78bf09219d0c9862a\\\n",
      "    Complete output (30 lines):\n",
      "    running install\n",
      "    running build\n",
      "    running build_py\n",
      "    creating build\n",
      "    creating build\\lib.win-amd64-3.9\n",
      "    creating build\\lib.win-amd64-3.9\\profiling\n",
      "    copying profiling\\profiler.py -> build\\lib.win-amd64-3.9\\profiling\n",
      "    copying profiling\\sortkeys.py -> build\\lib.win-amd64-3.9\\profiling\n",
      "    copying profiling\\stats.py -> build\\lib.win-amd64-3.9\\profiling\n",
      "    copying profiling\\utils.py -> build\\lib.win-amd64-3.9\\profiling\n",
      "    copying profiling\\viewer.py -> build\\lib.win-amd64-3.9\\profiling\n",
      "    copying profiling\\__about__.py -> build\\lib.win-amd64-3.9\\profiling\n",
      "    copying profiling\\__init__.py -> build\\lib.win-amd64-3.9\\profiling\n",
      "    copying profiling\\__main__.py -> build\\lib.win-amd64-3.9\\profiling\n",
      "    creating build\\lib.win-amd64-3.9\\profiling\\remote\n",
      "    copying profiling\\remote\\asyncio.py -> build\\lib.win-amd64-3.9\\profiling\\remote\n",
      "    copying profiling\\remote\\background.py -> build\\lib.win-amd64-3.9\\profiling\\remote\n",
      "    copying profiling\\remote\\client.py -> build\\lib.win-amd64-3.9\\profiling\\remote\n",
      "    copying profiling\\remote\\gevent.py -> build\\lib.win-amd64-3.9\\profiling\\remote\n",
      "    copying profiling\\remote\\select.py -> build\\lib.win-amd64-3.9\\profiling\\remote\n",
      "    copying profiling\\remote\\__init__.py -> build\\lib.win-amd64-3.9\\profiling\\remote\n",
      "    creating build\\lib.win-amd64-3.9\\profiling\\sampling\n",
      "    copying profiling\\sampling\\samplers.py -> build\\lib.win-amd64-3.9\\profiling\\sampling\n",
      "    copying profiling\\sampling\\__init__.py -> build\\lib.win-amd64-3.9\\profiling\\sampling\n",
      "    creating build\\lib.win-amd64-3.9\\profiling\\tracing\n",
      "    copying profiling\\tracing\\timers.py -> build\\lib.win-amd64-3.9\\profiling\\tracing\n",
      "    copying profiling\\tracing\\__init__.py -> build\\lib.win-amd64-3.9\\profiling\\tracing\n",
      "    running build_ext\n",
      "    building 'profiling.speedup' extension\n",
      "    error: Microsoft Visual C++ 14.0 or greater is required. Get it with \"Microsoft C++ Build Tools\": https://visualstudio.microsoft.com/visual-cpp-build-tools/\n",
      "    ----------------------------------------\n",
      "ERROR: Command errored out with exit status 1: 'C:\\Users\\user\\anaconda3\\python.exe' -u -c 'import io, os, sys, setuptools, tokenize; sys.argv[0] = '\"'\"'C:\\\\Users\\\\user\\\\AppData\\\\Local\\\\Temp\\\\pip-install-lpslfdqg\\\\profiling_f39ab10cdb9146b78bf09219d0c9862a\\\\setup.py'\"'\"'; __file__='\"'\"'C:\\\\Users\\\\user\\\\AppData\\\\Local\\\\Temp\\\\pip-install-lpslfdqg\\\\profiling_f39ab10cdb9146b78bf09219d0c9862a\\\\setup.py'\"'\"';f = getattr(tokenize, '\"'\"'open'\"'\"', open)(__file__) if os.path.exists(__file__) else io.StringIO('\"'\"'from setuptools import setup; setup()'\"'\"');code = f.read().replace('\"'\"'\\r\\n'\"'\"', '\"'\"'\\n'\"'\"');f.close();exec(compile(code, __file__, '\"'\"'exec'\"'\"'))' install --record 'C:\\Users\\user\\AppData\\Local\\Temp\\pip-record-dvcuf6ij\\install-record.txt' --single-version-externally-managed --compile --install-headers 'C:\\Users\\user\\anaconda3\\Include\\profiling' Check the logs for full command output.\n"
     ]
    }
   ],
   "source": [
    "pip install pandas profiling"
   ]
  },
  {
   "cell_type": "code",
   "execution_count": 15,
   "id": "1af12678",
   "metadata": {},
   "outputs": [],
   "source": [
    "import pandas_profiling as pp"
   ]
  },
  {
   "cell_type": "code",
   "execution_count": null,
   "id": "04f6f025",
   "metadata": {},
   "outputs": [
    {
     "data": {
      "application/vnd.jupyter.widget-view+json": {
       "model_id": "aa36d337ba7248eaab6f4fa93ba83879",
       "version_major": 2,
       "version_minor": 0
      },
      "text/plain": [
       "Summarize dataset:   0%|          | 0/5 [00:00<?, ?it/s]"
      ]
     },
     "metadata": {},
     "output_type": "display_data"
    }
   ],
   "source": [
    "pp.ProfileReport(skills)"
   ]
  },
  {
   "cell_type": "code",
   "execution_count": null,
   "id": "dc6966ed",
   "metadata": {},
   "outputs": [],
   "source": [
    "fig = px.histogram(skills, x='skill_group_category', y='skill_group_rank')\n",
    "fig.show()"
   ]
  },
  {
   "cell_type": "code",
   "execution_count": null,
   "id": "7f9b940f",
   "metadata": {},
   "outputs": [],
   "source": [
    "fig = px.histogram(skills, x='skill_group_category')\n",
    "fig.show()"
   ]
  },
  {
   "cell_type": "code",
   "execution_count": null,
   "id": "495563f5",
   "metadata": {},
   "outputs": [],
   "source": [
    "print(skills['year'].unique())\n",
    "\n",
    "#print(skills['isic_index'].unique())\n",
    "print(skills['isic_section_name'].unique())\n",
    "#print(skills['industry_name'].unique())\n",
    "print(skills['skill_group_category'].unique())\n",
    "#print(skills['skill_group_name'].unique())\n",
    "print(skills['skill_group_rank'].unique())"
   ]
  },
  {
   "cell_type": "code",
   "execution_count": null,
   "id": "8c8cdda2",
   "metadata": {},
   "outputs": [],
   "source": [
    "skills.sort_values('year', ascending=True, inplace=True)\n",
    "skills"
   ]
  },
  {
   "cell_type": "code",
   "execution_count": null,
   "id": "fbf63673",
   "metadata": {},
   "outputs": [],
   "source": [
    "skills.columns"
   ]
  },
  {
   "cell_type": "code",
   "execution_count": null,
   "id": "c5e663c1",
   "metadata": {},
   "outputs": [],
   "source": [
    "skills_new = skills[['year','skill_group_category','skill_group_rank']]\n",
    "skills_new"
   ]
  },
  {
   "cell_type": "code",
   "execution_count": null,
   "id": "8c68c266",
   "metadata": {},
   "outputs": [],
   "source": [
    "skills.isnull().sum()"
   ]
  },
  {
   "cell_type": "code",
   "execution_count": null,
   "id": "cbe7b771",
   "metadata": {},
   "outputs": [],
   "source": [
    "X = skills.drop('skill_group_rank', axis=1 )\n",
    "X.describe"
   ]
  },
  {
   "cell_type": "code",
   "execution_count": null,
   "id": "a55339ba",
   "metadata": {},
   "outputs": [],
   "source": [
    "y=skills['skill_group_rank']\n",
    "y.head(10)"
   ]
  },
  {
   "cell_type": "code",
   "execution_count": null,
   "id": "d3ab5365",
   "metadata": {},
   "outputs": [],
   "source": [
    "y.value_counts()"
   ]
  },
  {
   "cell_type": "code",
   "execution_count": null,
   "id": "bdbb1894",
   "metadata": {},
   "outputs": [],
   "source": [
    "y.unique()"
   ]
  },
  {
   "cell_type": "code",
   "execution_count": null,
   "id": "2f5711e9",
   "metadata": {},
   "outputs": [],
   "source": [
    "X.value_counts()"
   ]
  },
  {
   "cell_type": "code",
   "execution_count": null,
   "id": "c4220877",
   "metadata": {},
   "outputs": [],
   "source": [
    "plt.boxplot(data=skills, x='skill_group_rank')"
   ]
  },
  {
   "cell_type": "markdown",
   "id": "96fe6cc7",
   "metadata": {},
   "source": [
    "# Feature Engineering"
   ]
  },
  {
   "cell_type": "code",
   "execution_count": null,
   "id": "ed6988b3",
   "metadata": {},
   "outputs": [],
   "source": [
    "from sklearn.model_selection import train_test_split\n",
    "\n",
    "#spliting the data into testing and training\n",
    "X_train, X_test, y_train, y_test = train_test_split(X, y, test_size=0.2, random_state=50, stratify=y)\n",
    "\n",
    "X_train.shape, X_test.shape, y_train.shape, y_test.shape"
   ]
  },
  {
   "cell_type": "code",
   "execution_count": null,
   "id": "280fd528",
   "metadata": {},
   "outputs": [],
   "source": [
    "X_train.head()"
   ]
  },
  {
   "cell_type": "code",
   "execution_count": null,
   "id": "e431d8b1",
   "metadata": {},
   "outputs": [],
   "source": [
    "y_train.value_counts()"
   ]
  },
  {
   "cell_type": "code",
   "execution_count": null,
   "id": "b4fd91bc",
   "metadata": {},
   "outputs": [],
   "source": [
    "y_test.value_counts()"
   ]
  },
  {
   "cell_type": "code",
   "execution_count": null,
   "id": "11ca749a",
   "metadata": {},
   "outputs": [],
   "source": [
    "#skills.astype(int)\n",
    "#skills"
   ]
  },
  {
   "cell_type": "code",
   "execution_count": null,
   "id": "bc54f674",
   "metadata": {},
   "outputs": [],
   "source": [
    "#skill = skills.copy()\n",
    "#skill"
   ]
  },
  {
   "cell_type": "code",
   "execution_count": null,
   "id": "5ec64e66",
   "metadata": {},
   "outputs": [],
   "source": [
    "#find the columns in strings dtype\n",
    "#for data, content in skill.items():\n",
    "    #if pd.api.types.is_string_dtype(content):\n",
    "        #print(data)"
   ]
  },
  {
   "cell_type": "code",
   "execution_count": null,
   "id": "0bc91381",
   "metadata": {},
   "outputs": [],
   "source": [
    "#turn string dtype to cat\n",
    "#for data, content in skill.items():\n",
    "    #if pd.api.types.is_string_dtype(content):\n",
    "        #skill[data]= content.astype('category').cat.as_ordered()"
   ]
  },
  {
   "cell_type": "code",
   "execution_count": null,
   "id": "232576b5",
   "metadata": {},
   "outputs": [],
   "source": [
    "#skill.dtypes"
   ]
  },
  {
   "cell_type": "code",
   "execution_count": null,
   "id": "a17c0624",
   "metadata": {},
   "outputs": [],
   "source": [
    "#pd.Categorical(skill).codes"
   ]
  },
  {
   "cell_type": "code",
   "execution_count": null,
   "id": "d4e29b40",
   "metadata": {},
   "outputs": [],
   "source": [
    "#turn string dtype to numbers\n",
    "#for data, content in skills.items():\n",
    "    #if not pd.api.types.is_numeric_dtype(content):\n",
    "        #skills[data] = pd.Categorical(content).codes+1"
   ]
  },
  {
   "cell_type": "code",
   "execution_count": null,
   "id": "de08c028",
   "metadata": {},
   "outputs": [],
   "source": [
    "#skill.dtypes"
   ]
  },
  {
   "cell_type": "code",
   "execution_count": null,
   "id": "c8a32379",
   "metadata": {},
   "outputs": [],
   "source": [
    "from sklearn import *"
   ]
  },
  {
   "cell_type": "code",
   "execution_count": null,
   "id": "a1b86570",
   "metadata": {},
   "outputs": [],
   "source": [
    "#changing the data type of some columns to ingt\n",
    "from sklearn.preprocessing import OneHotEncoder\n",
    "from sklearn.compose import ColumnTransformer\n",
    "from sklearn.preprocessing import MinMaxScaler\n",
    "\n",
    "scaler = MinMaxScaler(feature_range = (0, 1))\n",
    "\n",
    "OHE_model = OneHotEncoder(handle_unknown = 'ignore')\n",
    "\n",
    "categorical_columns = ['isic_index', 'isic_section_name',\n",
    "                       'industry_name', 'skill_group_category', 'skill_group_name']\n",
    "\n",
    "encoder = OneHotEncoder(handle_unknown = 'ignore')\n",
    "transformer = ColumnTransformer(transformers = [('OneHotEncoder', encoder,\n",
    "                                                 categorical_columns),\n",
    "                                               ('scaler', scaler, ['year'])],\n",
    "                              remainder = 'passthrough')\n",
    "t_X_train = transformer.fit_transform(X_train)\n",
    "t_X_test = transformer.transform(X_test)\n",
    "\n",
    "t_X_train"
   ]
  },
  {
   "cell_type": "code",
   "execution_count": null,
   "id": "773935f8",
   "metadata": {},
   "outputs": [],
   "source": [
    "from sklearn.ensemble import RandomForestRegressor\n",
    "model = RandomForestRegressor(n_estimators=100)\n",
    "\n",
    "model.fit(t_X_train, y_train)"
   ]
  },
  {
   "cell_type": "code",
   "execution_count": null,
   "id": "a0ccfa79",
   "metadata": {},
   "outputs": [],
   "source": [
    "model.score(t_X_test, y_test)"
   ]
  },
  {
   "cell_type": "code",
   "execution_count": null,
   "id": "73eaf410",
   "metadata": {},
   "outputs": [],
   "source": [
    "y_train_pred = model.predict(t_X_test)\n",
    "y_train_pred"
   ]
  },
  {
   "cell_type": "code",
   "execution_count": null,
   "id": "65098842",
   "metadata": {},
   "outputs": [],
   "source": [
    "from sklearn.metrics import mean_squared_error\n",
    "mean_squared_error(y_test, y_train_pred)"
   ]
  },
  {
   "cell_type": "code",
   "execution_count": null,
   "id": "e6e9af26",
   "metadata": {},
   "outputs": [],
   "source": [
    "np.sqrt(mean_squared_error(y_test, y_train_pred))"
   ]
  },
  {
   "cell_type": "code",
   "execution_count": null,
   "id": "3a3c28e2",
   "metadata": {},
   "outputs": [],
   "source": [
    "import pickle"
   ]
  },
  {
   "cell_type": "code",
   "execution_count": null,
   "id": "34bf36d0",
   "metadata": {},
   "outputs": [],
   "source": [
    "filename = 'trained_model.sav'"
   ]
  },
  {
   "cell_type": "code",
   "execution_count": null,
   "id": "ed381a45",
   "metadata": {},
   "outputs": [],
   "source": [
    "pickle.dump(model, open(filename, 'wb'))"
   ]
  },
  {
   "cell_type": "code",
   "execution_count": null,
   "id": "90c19f5e",
   "metadata": {},
   "outputs": [],
   "source": [
    "load_model = pickle.load(open('trained_model.sav', 'rb'))"
   ]
  },
  {
   "cell_type": "code",
   "execution_count": null,
   "id": "000a0ce2",
   "metadata": {},
   "outputs": [],
   "source": [
    "pip install streamlit"
   ]
  },
  {
   "cell_type": "code",
   "execution_count": null,
   "id": "bb3b80ae",
   "metadata": {},
   "outputs": [],
   "source": [
    "import streamlit"
   ]
  },
  {
   "cell_type": "code",
   "execution_count": null,
   "id": "d84db857",
   "metadata": {},
   "outputs": [],
   "source": [
    "#creating a function for prediction\n",
    "def skill_rank_prediction():\n",
    "    y_train_pred = load_model.predict(t_X_test)\n",
    "    y_train_pred\n",
    "    if (y_train_pred[0] ==0): \n",
    "        return 'skill_group_rank'\n",
    "    else:\n",
    "        return 'skill not ranked'\n",
    "\n",
    "def main():\n",
    "    \n",
    "    st.title('Skill Rank Prediction App')\n",
    "    #giving data input\n",
    "    year = st.number_input('Enter year here')\n",
    "    isic_section_name = st.text_input('Enter industry name')\n",
    "    skill_group_category = st.text_input('Enter skill Category')\n",
    "    \n",
    "    #code for prediction\n",
    "    skill_pred = ''\n",
    "    \n",
    "    #create a prediction button\n",
    "    if st.button('Skill_rank_prediction'):\n",
    "        skill_pred = skill_rank_prediction([year,isic_section_name, skill_group_category])\n",
    "        \n",
    "    st.success(skill_pred)\n",
    "    \n",
    "if __name__ == '__main__':\n",
    "    main()\n",
    "            "
   ]
  }
 ],
 "metadata": {
  "kernelspec": {
   "display_name": "Python 3 (ipykernel)",
   "language": "python",
   "name": "python3"
  },
  "language_info": {
   "codemirror_mode": {
    "name": "ipython",
    "version": 3
   },
   "file_extension": ".py",
   "mimetype": "text/x-python",
   "name": "python",
   "nbconvert_exporter": "python",
   "pygments_lexer": "ipython3",
   "version": "3.9.7"
  }
 },
 "nbformat": 4,
 "nbformat_minor": 5
}
